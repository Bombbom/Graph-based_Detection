{
 "cells": [
  {
   "attachments": {},
   "cell_type": "markdown",
   "metadata": {},
   "source": [
    "# Data handling in PyG\n",
    "\n",
    "Data\n",
    "\n",
    "A data object describing a homogeneous graph.\n",
    "\n",
    "HeteroData\n",
    "\n",
    "A data object describing a heterogeneous graph, holding multiple node and/or edge types in disjunct storage objects.\n",
    "\n",
    "Batch\n",
    "\n",
    "A data object describing a batch of graphs as one big (disconnected) graph.\n",
    "\n",
    "TemporalData\n",
    "\n",
    "A data object composed by a stream of events describing a temporal graph.\n",
    "\n",
    "Dataset\n",
    "\n",
    "Dataset base class for creating graph datasets.\n",
    "\n",
    "InMemoryDataset\n",
    "\n",
    "Dataset base class for creating graph datasets which easily fit into CPU memory."
   ]
  },
  {
   "attachments": {},
   "cell_type": "markdown",
   "metadata": {},
   "source": [
    "## References \n",
    "- https://pytorch-geometric.readthedocs.io/en/latest/modules/data.html\n",
    "\n"
   ]
  },
  {
   "cell_type": "code",
   "execution_count": null,
   "metadata": {},
   "outputs": [],
   "source": []
  },
  {
   "attachments": {},
   "cell_type": "markdown",
   "metadata": {},
   "source": [
    "## torch_geometric.datasets\n",
    "- https://pytorch-geometric.readthedocs.io/en/latest/modules/datasets.html"
   ]
  },
  {
   "cell_type": "code",
   "execution_count": null,
   "metadata": {},
   "outputs": [],
   "source": []
  }
 ],
 "metadata": {
  "language_info": {
   "name": "python"
  },
  "orig_nbformat": 4
 },
 "nbformat": 4,
 "nbformat_minor": 2
}
